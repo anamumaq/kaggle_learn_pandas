{
 "cells": [
  {
   "cell_type": "markdown",
   "id": "12dc18c4",
   "metadata": {
    "papermill": {
     "duration": 0.009719,
     "end_time": "2023-08-26T21:24:03.562045",
     "exception": false,
     "start_time": "2023-08-26T21:24:03.552326",
     "status": "completed"
    },
    "tags": []
   },
   "source": [
    "**This notebook is an exercise in the [Pandas](https://www.kaggle.com/learn/pandas) course.  You can reference the tutorial at [this link](https://www.kaggle.com/residentmario/summary-functions-and-maps).**\n",
    "\n",
    "---\n"
   ]
  },
  {
   "cell_type": "markdown",
   "id": "9e9f1d14",
   "metadata": {
    "papermill": {
     "duration": 0.008751,
     "end_time": "2023-08-26T21:24:03.579955",
     "exception": false,
     "start_time": "2023-08-26T21:24:03.571204",
     "status": "completed"
    },
    "tags": []
   },
   "source": [
    "# Introduction\n",
    "\n",
    "Now you are ready to get a deeper understanding of your data.\n",
    "\n",
    "Run the following cell to load your data and some utility functions (including code to check your answers)."
   ]
  },
  {
   "cell_type": "code",
   "execution_count": 1,
   "id": "13cbdf7b",
   "metadata": {
    "execution": {
     "iopub.execute_input": "2023-08-26T21:24:03.600245Z",
     "iopub.status.busy": "2023-08-26T21:24:03.599790Z",
     "iopub.status.idle": "2023-08-26T21:24:12.551048Z",
     "shell.execute_reply": "2023-08-26T21:24:12.549725Z"
    },
    "papermill": {
     "duration": 8.966351,
     "end_time": "2023-08-26T21:24:12.555235",
     "exception": false,
     "start_time": "2023-08-26T21:24:03.588884",
     "status": "completed"
    },
    "tags": []
   },
   "outputs": [
    {
     "name": "stdout",
     "output_type": "stream",
     "text": [
      "Setup complete.\n"
     ]
    },
    {
     "data": {
      "text/html": [
       "<div>\n",
       "<style scoped>\n",
       "    .dataframe tbody tr th:only-of-type {\n",
       "        vertical-align: middle;\n",
       "    }\n",
       "\n",
       "    .dataframe tbody tr th {\n",
       "        vertical-align: top;\n",
       "    }\n",
       "\n",
       "    .dataframe thead th {\n",
       "        text-align: right;\n",
       "    }\n",
       "</style>\n",
       "<table border=\"1\" class=\"dataframe\">\n",
       "  <thead>\n",
       "    <tr style=\"text-align: right;\">\n",
       "      <th></th>\n",
       "      <th>country</th>\n",
       "      <th>description</th>\n",
       "      <th>designation</th>\n",
       "      <th>points</th>\n",
       "      <th>price</th>\n",
       "      <th>province</th>\n",
       "      <th>region_1</th>\n",
       "      <th>region_2</th>\n",
       "      <th>taster_name</th>\n",
       "      <th>taster_twitter_handle</th>\n",
       "      <th>title</th>\n",
       "      <th>variety</th>\n",
       "      <th>winery</th>\n",
       "    </tr>\n",
       "  </thead>\n",
       "  <tbody>\n",
       "    <tr>\n",
       "      <th>0</th>\n",
       "      <td>Italy</td>\n",
       "      <td>Aromas include tropical fruit, broom, brimston...</td>\n",
       "      <td>Vulkà Bianco</td>\n",
       "      <td>87</td>\n",
       "      <td>NaN</td>\n",
       "      <td>Sicily &amp; Sardinia</td>\n",
       "      <td>Etna</td>\n",
       "      <td>NaN</td>\n",
       "      <td>Kerin O’Keefe</td>\n",
       "      <td>@kerinokeefe</td>\n",
       "      <td>Nicosia 2013 Vulkà Bianco  (Etna)</td>\n",
       "      <td>White Blend</td>\n",
       "      <td>Nicosia</td>\n",
       "    </tr>\n",
       "    <tr>\n",
       "      <th>1</th>\n",
       "      <td>Portugal</td>\n",
       "      <td>This is ripe and fruity, a wine that is smooth...</td>\n",
       "      <td>Avidagos</td>\n",
       "      <td>87</td>\n",
       "      <td>15.0</td>\n",
       "      <td>Douro</td>\n",
       "      <td>NaN</td>\n",
       "      <td>NaN</td>\n",
       "      <td>Roger Voss</td>\n",
       "      <td>@vossroger</td>\n",
       "      <td>Quinta dos Avidagos 2011 Avidagos Red (Douro)</td>\n",
       "      <td>Portuguese Red</td>\n",
       "      <td>Quinta dos Avidagos</td>\n",
       "    </tr>\n",
       "    <tr>\n",
       "      <th>2</th>\n",
       "      <td>US</td>\n",
       "      <td>Tart and snappy, the flavors of lime flesh and...</td>\n",
       "      <td>NaN</td>\n",
       "      <td>87</td>\n",
       "      <td>14.0</td>\n",
       "      <td>Oregon</td>\n",
       "      <td>Willamette Valley</td>\n",
       "      <td>Willamette Valley</td>\n",
       "      <td>Paul Gregutt</td>\n",
       "      <td>@paulgwine</td>\n",
       "      <td>Rainstorm 2013 Pinot Gris (Willamette Valley)</td>\n",
       "      <td>Pinot Gris</td>\n",
       "      <td>Rainstorm</td>\n",
       "    </tr>\n",
       "    <tr>\n",
       "      <th>3</th>\n",
       "      <td>US</td>\n",
       "      <td>Pineapple rind, lemon pith and orange blossom ...</td>\n",
       "      <td>Reserve Late Harvest</td>\n",
       "      <td>87</td>\n",
       "      <td>13.0</td>\n",
       "      <td>Michigan</td>\n",
       "      <td>Lake Michigan Shore</td>\n",
       "      <td>NaN</td>\n",
       "      <td>Alexander Peartree</td>\n",
       "      <td>NaN</td>\n",
       "      <td>St. Julian 2013 Reserve Late Harvest Riesling ...</td>\n",
       "      <td>Riesling</td>\n",
       "      <td>St. Julian</td>\n",
       "    </tr>\n",
       "    <tr>\n",
       "      <th>4</th>\n",
       "      <td>US</td>\n",
       "      <td>Much like the regular bottling from 2012, this...</td>\n",
       "      <td>Vintner's Reserve Wild Child Block</td>\n",
       "      <td>87</td>\n",
       "      <td>65.0</td>\n",
       "      <td>Oregon</td>\n",
       "      <td>Willamette Valley</td>\n",
       "      <td>Willamette Valley</td>\n",
       "      <td>Paul Gregutt</td>\n",
       "      <td>@paulgwine</td>\n",
       "      <td>Sweet Cheeks 2012 Vintner's Reserve Wild Child...</td>\n",
       "      <td>Pinot Noir</td>\n",
       "      <td>Sweet Cheeks</td>\n",
       "    </tr>\n",
       "  </tbody>\n",
       "</table>\n",
       "</div>"
      ],
      "text/plain": [
       "    country                                        description  \\\n",
       "0     Italy  Aromas include tropical fruit, broom, brimston...   \n",
       "1  Portugal  This is ripe and fruity, a wine that is smooth...   \n",
       "2        US  Tart and snappy, the flavors of lime flesh and...   \n",
       "3        US  Pineapple rind, lemon pith and orange blossom ...   \n",
       "4        US  Much like the regular bottling from 2012, this...   \n",
       "\n",
       "                          designation  points  price           province  \\\n",
       "0                        Vulkà Bianco      87    NaN  Sicily & Sardinia   \n",
       "1                            Avidagos      87   15.0              Douro   \n",
       "2                                 NaN      87   14.0             Oregon   \n",
       "3                Reserve Late Harvest      87   13.0           Michigan   \n",
       "4  Vintner's Reserve Wild Child Block      87   65.0             Oregon   \n",
       "\n",
       "              region_1           region_2         taster_name  \\\n",
       "0                 Etna                NaN       Kerin O’Keefe   \n",
       "1                  NaN                NaN          Roger Voss   \n",
       "2    Willamette Valley  Willamette Valley        Paul Gregutt   \n",
       "3  Lake Michigan Shore                NaN  Alexander Peartree   \n",
       "4    Willamette Valley  Willamette Valley        Paul Gregutt   \n",
       "\n",
       "  taster_twitter_handle                                              title  \\\n",
       "0          @kerinokeefe                  Nicosia 2013 Vulkà Bianco  (Etna)   \n",
       "1            @vossroger      Quinta dos Avidagos 2011 Avidagos Red (Douro)   \n",
       "2           @paulgwine       Rainstorm 2013 Pinot Gris (Willamette Valley)   \n",
       "3                   NaN  St. Julian 2013 Reserve Late Harvest Riesling ...   \n",
       "4           @paulgwine   Sweet Cheeks 2012 Vintner's Reserve Wild Child...   \n",
       "\n",
       "          variety               winery  \n",
       "0     White Blend              Nicosia  \n",
       "1  Portuguese Red  Quinta dos Avidagos  \n",
       "2      Pinot Gris            Rainstorm  \n",
       "3        Riesling           St. Julian  \n",
       "4      Pinot Noir         Sweet Cheeks  "
      ]
     },
     "execution_count": 1,
     "metadata": {},
     "output_type": "execute_result"
    }
   ],
   "source": [
    "import pandas as pd\n",
    "pd.set_option(\"display.max_rows\", 5)\n",
    "reviews = pd.read_csv(\"../input/wine-reviews/winemag-data-130k-v2.csv\", index_col=0)\n",
    "\n",
    "from learntools.core import binder; binder.bind(globals())\n",
    "from learntools.pandas.summary_functions_and_maps import *\n",
    "print(\"Setup complete.\")\n",
    "\n",
    "reviews.head()"
   ]
  },
  {
   "cell_type": "markdown",
   "id": "3831d061",
   "metadata": {
    "papermill": {
     "duration": 0.009724,
     "end_time": "2023-08-26T21:24:12.575388",
     "exception": false,
     "start_time": "2023-08-26T21:24:12.565664",
     "status": "completed"
    },
    "tags": []
   },
   "source": [
    "# Exercises"
   ]
  },
  {
   "cell_type": "markdown",
   "id": "03c04771",
   "metadata": {
    "papermill": {
     "duration": 0.009565,
     "end_time": "2023-08-26T21:24:12.595087",
     "exception": false,
     "start_time": "2023-08-26T21:24:12.585522",
     "status": "completed"
    },
    "tags": []
   },
   "source": [
    "## 1.\n",
    "\n",
    "What is the median of the `points` column in the `reviews` DataFrame?"
   ]
  },
  {
   "cell_type": "code",
   "execution_count": 2,
   "id": "601dc62a",
   "metadata": {
    "execution": {
     "iopub.execute_input": "2023-08-26T21:24:12.618980Z",
     "iopub.status.busy": "2023-08-26T21:24:12.618492Z",
     "iopub.status.idle": "2023-08-26T21:24:12.630582Z",
     "shell.execute_reply": "2023-08-26T21:24:12.629454Z"
    },
    "papermill": {
     "duration": 0.027923,
     "end_time": "2023-08-26T21:24:12.633030",
     "exception": false,
     "start_time": "2023-08-26T21:24:12.605107",
     "status": "completed"
    },
    "tags": []
   },
   "outputs": [
    {
     "data": {
      "application/javascript": [
       "parent.postMessage({\"jupyterEvent\": \"custom.exercise_interaction\", \"data\": {\"outcomeType\": 1, \"valueTowardsCompletion\": 0.14285714285714285, \"interactionType\": 1, \"questionType\": 1, \"questionId\": \"1_MedianPoints\", \"learnToolsVersion\": \"0.3.4\", \"failureMessage\": \"\", \"exceptionClass\": \"\", \"trace\": \"\"}}, \"*\")"
      ],
      "text/plain": [
       "<IPython.core.display.Javascript object>"
      ]
     },
     "metadata": {},
     "output_type": "display_data"
    },
    {
     "data": {
      "text/markdown": [
       "<span style=\"color:#33cc33\">Correct</span>"
      ],
      "text/plain": [
       "Correct"
      ]
     },
     "metadata": {},
     "output_type": "display_data"
    }
   ],
   "source": [
    "median_points = reviews['points'].median()\n",
    "\n",
    "# Check your answer\n",
    "q1.check()"
   ]
  },
  {
   "cell_type": "code",
   "execution_count": 3,
   "id": "89434a78",
   "metadata": {
    "execution": {
     "iopub.execute_input": "2023-08-26T21:24:12.655621Z",
     "iopub.status.busy": "2023-08-26T21:24:12.654830Z",
     "iopub.status.idle": "2023-08-26T21:24:12.660250Z",
     "shell.execute_reply": "2023-08-26T21:24:12.658874Z"
    },
    "papermill": {
     "duration": 0.019826,
     "end_time": "2023-08-26T21:24:12.662905",
     "exception": false,
     "start_time": "2023-08-26T21:24:12.643079",
     "status": "completed"
    },
    "tags": []
   },
   "outputs": [],
   "source": [
    "#q1.hint()\n",
    "#q1.solution()"
   ]
  },
  {
   "cell_type": "markdown",
   "id": "2a5c84fc",
   "metadata": {
    "papermill": {
     "duration": 0.00987,
     "end_time": "2023-08-26T21:24:12.682989",
     "exception": false,
     "start_time": "2023-08-26T21:24:12.673119",
     "status": "completed"
    },
    "tags": []
   },
   "source": [
    "## 2. \n",
    "What countries are represented in the dataset? (Your answer should not include any duplicates.)"
   ]
  },
  {
   "cell_type": "code",
   "execution_count": 4,
   "id": "26a6f14b",
   "metadata": {
    "execution": {
     "iopub.execute_input": "2023-08-26T21:24:12.705326Z",
     "iopub.status.busy": "2023-08-26T21:24:12.704867Z",
     "iopub.status.idle": "2023-08-26T21:24:12.728842Z",
     "shell.execute_reply": "2023-08-26T21:24:12.727635Z"
    },
    "papermill": {
     "duration": 0.038007,
     "end_time": "2023-08-26T21:24:12.731098",
     "exception": false,
     "start_time": "2023-08-26T21:24:12.693091",
     "status": "completed"
    },
    "tags": []
   },
   "outputs": [
    {
     "data": {
      "application/javascript": [
       "parent.postMessage({\"jupyterEvent\": \"custom.exercise_interaction\", \"data\": {\"outcomeType\": 1, \"valueTowardsCompletion\": 0.14285714285714285, \"interactionType\": 1, \"questionType\": 2, \"questionId\": \"2_UniqueCountries\", \"learnToolsVersion\": \"0.3.4\", \"failureMessage\": \"\", \"exceptionClass\": \"\", \"trace\": \"\"}}, \"*\")"
      ],
      "text/plain": [
       "<IPython.core.display.Javascript object>"
      ]
     },
     "metadata": {},
     "output_type": "display_data"
    },
    {
     "data": {
      "text/markdown": [
       "<span style=\"color:#33cc33\">Correct</span>"
      ],
      "text/plain": [
       "Correct"
      ]
     },
     "metadata": {},
     "output_type": "display_data"
    }
   ],
   "source": [
    "countries = reviews['country'].unique()\n",
    "\n",
    "# Check your answer\n",
    "q2.check()"
   ]
  },
  {
   "cell_type": "code",
   "execution_count": 5,
   "id": "12b14319",
   "metadata": {
    "execution": {
     "iopub.execute_input": "2023-08-26T21:24:12.754495Z",
     "iopub.status.busy": "2023-08-26T21:24:12.754024Z",
     "iopub.status.idle": "2023-08-26T21:24:12.759346Z",
     "shell.execute_reply": "2023-08-26T21:24:12.758073Z"
    },
    "papermill": {
     "duration": 0.019853,
     "end_time": "2023-08-26T21:24:12.761573",
     "exception": false,
     "start_time": "2023-08-26T21:24:12.741720",
     "status": "completed"
    },
    "tags": []
   },
   "outputs": [],
   "source": [
    "#q2.hint()\n",
    "#q2.solution()"
   ]
  },
  {
   "cell_type": "markdown",
   "id": "319aafb2",
   "metadata": {
    "papermill": {
     "duration": 0.010273,
     "end_time": "2023-08-26T21:24:12.782544",
     "exception": false,
     "start_time": "2023-08-26T21:24:12.772271",
     "status": "completed"
    },
    "tags": []
   },
   "source": [
    "## 3.\n",
    "How often does each country appear in the dataset? Create a Series `reviews_per_country` mapping countries to the count of reviews of wines from that country."
   ]
  },
  {
   "cell_type": "code",
   "execution_count": 6,
   "id": "ef9ccce0",
   "metadata": {
    "execution": {
     "iopub.execute_input": "2023-08-26T21:24:12.805645Z",
     "iopub.status.busy": "2023-08-26T21:24:12.805166Z",
     "iopub.status.idle": "2023-08-26T21:24:12.835632Z",
     "shell.execute_reply": "2023-08-26T21:24:12.834479Z"
    },
    "papermill": {
     "duration": 0.045075,
     "end_time": "2023-08-26T21:24:12.838094",
     "exception": false,
     "start_time": "2023-08-26T21:24:12.793019",
     "status": "completed"
    },
    "tags": []
   },
   "outputs": [
    {
     "data": {
      "application/javascript": [
       "parent.postMessage({\"jupyterEvent\": \"custom.exercise_interaction\", \"data\": {\"outcomeType\": 1, \"valueTowardsCompletion\": 0.14285714285714285, \"interactionType\": 1, \"questionType\": 1, \"questionId\": \"3_ReviewsPerCountry\", \"learnToolsVersion\": \"0.3.4\", \"failureMessage\": \"\", \"exceptionClass\": \"\", \"trace\": \"\"}}, \"*\")"
      ],
      "text/plain": [
       "<IPython.core.display.Javascript object>"
      ]
     },
     "metadata": {},
     "output_type": "display_data"
    },
    {
     "data": {
      "text/markdown": [
       "<span style=\"color:#33cc33\">Correct</span>"
      ],
      "text/plain": [
       "Correct"
      ]
     },
     "metadata": {},
     "output_type": "display_data"
    }
   ],
   "source": [
    "reviews_per_country = reviews['country'].value_counts()\n",
    "\n",
    "# Check your answer\n",
    "q3.check()"
   ]
  },
  {
   "cell_type": "code",
   "execution_count": 7,
   "id": "e649c47e",
   "metadata": {
    "execution": {
     "iopub.execute_input": "2023-08-26T21:24:12.862995Z",
     "iopub.status.busy": "2023-08-26T21:24:12.862125Z",
     "iopub.status.idle": "2023-08-26T21:24:12.866839Z",
     "shell.execute_reply": "2023-08-26T21:24:12.866076Z"
    },
    "papermill": {
     "duration": 0.01979,
     "end_time": "2023-08-26T21:24:12.869134",
     "exception": false,
     "start_time": "2023-08-26T21:24:12.849344",
     "status": "completed"
    },
    "tags": []
   },
   "outputs": [],
   "source": [
    "#q3.hint()\n",
    "#q3.solution()"
   ]
  },
  {
   "cell_type": "markdown",
   "id": "503735a6",
   "metadata": {
    "papermill": {
     "duration": 0.01106,
     "end_time": "2023-08-26T21:24:12.891245",
     "exception": false,
     "start_time": "2023-08-26T21:24:12.880185",
     "status": "completed"
    },
    "tags": []
   },
   "source": [
    "## 4.\n",
    "Create variable `centered_price` containing a version of the `price` column with the mean price subtracted.\n",
    "\n",
    "(Note: this 'centering' transformation is a common preprocessing step before applying various machine learning algorithms.) "
   ]
  },
  {
   "cell_type": "code",
   "execution_count": 8,
   "id": "524971e0",
   "metadata": {
    "execution": {
     "iopub.execute_input": "2023-08-26T21:24:12.916606Z",
     "iopub.status.busy": "2023-08-26T21:24:12.915724Z",
     "iopub.status.idle": "2023-08-26T21:24:12.928878Z",
     "shell.execute_reply": "2023-08-26T21:24:12.927726Z"
    },
    "papermill": {
     "duration": 0.02871,
     "end_time": "2023-08-26T21:24:12.931306",
     "exception": false,
     "start_time": "2023-08-26T21:24:12.902596",
     "status": "completed"
    },
    "tags": []
   },
   "outputs": [
    {
     "data": {
      "application/javascript": [
       "parent.postMessage({\"jupyterEvent\": \"custom.exercise_interaction\", \"data\": {\"outcomeType\": 1, \"valueTowardsCompletion\": 0.14285714285714285, \"interactionType\": 1, \"questionType\": 1, \"questionId\": \"4_CenteredPrice\", \"learnToolsVersion\": \"0.3.4\", \"failureMessage\": \"\", \"exceptionClass\": \"\", \"trace\": \"\"}}, \"*\")"
      ],
      "text/plain": [
       "<IPython.core.display.Javascript object>"
      ]
     },
     "metadata": {},
     "output_type": "display_data"
    },
    {
     "data": {
      "text/markdown": [
       "<span style=\"color:#33cc33\">Correct</span>"
      ],
      "text/plain": [
       "Correct"
      ]
     },
     "metadata": {},
     "output_type": "display_data"
    }
   ],
   "source": [
    "centered_price = reviews['price'] - reviews['price'].mean()\n",
    "\n",
    "# Check your answer\n",
    "q4.check()"
   ]
  },
  {
   "cell_type": "code",
   "execution_count": 9,
   "id": "817a86c4",
   "metadata": {
    "execution": {
     "iopub.execute_input": "2023-08-26T21:24:12.957916Z",
     "iopub.status.busy": "2023-08-26T21:24:12.957076Z",
     "iopub.status.idle": "2023-08-26T21:24:12.961922Z",
     "shell.execute_reply": "2023-08-26T21:24:12.961140Z"
    },
    "papermill": {
     "duration": 0.021019,
     "end_time": "2023-08-26T21:24:12.964266",
     "exception": false,
     "start_time": "2023-08-26T21:24:12.943247",
     "status": "completed"
    },
    "tags": []
   },
   "outputs": [],
   "source": [
    "#q4.hint()\n",
    "#q4.solution()"
   ]
  },
  {
   "cell_type": "markdown",
   "id": "01c5bfd0",
   "metadata": {
    "papermill": {
     "duration": 0.011308,
     "end_time": "2023-08-26T21:24:12.987260",
     "exception": false,
     "start_time": "2023-08-26T21:24:12.975952",
     "status": "completed"
    },
    "tags": []
   },
   "source": [
    "## 5.\n",
    "I'm an economical wine buyer. Which wine is the \"best bargain\"? Create a variable `bargain_wine` with the title of the wine with the highest points-to-price ratio in the dataset."
   ]
  },
  {
   "cell_type": "code",
   "execution_count": 10,
   "id": "15198f7e",
   "metadata": {
    "execution": {
     "iopub.execute_input": "2023-08-26T21:24:13.012835Z",
     "iopub.status.busy": "2023-08-26T21:24:13.012355Z",
     "iopub.status.idle": "2023-08-26T21:24:13.043221Z",
     "shell.execute_reply": "2023-08-26T21:24:13.041993Z"
    },
    "papermill": {
     "duration": 0.047035,
     "end_time": "2023-08-26T21:24:13.045793",
     "exception": false,
     "start_time": "2023-08-26T21:24:12.998758",
     "status": "completed"
    },
    "tags": []
   },
   "outputs": [
    {
     "data": {
      "text/html": [
       "<div>\n",
       "<style scoped>\n",
       "    .dataframe tbody tr th:only-of-type {\n",
       "        vertical-align: middle;\n",
       "    }\n",
       "\n",
       "    .dataframe tbody tr th {\n",
       "        vertical-align: top;\n",
       "    }\n",
       "\n",
       "    .dataframe thead th {\n",
       "        text-align: right;\n",
       "    }\n",
       "</style>\n",
       "<table border=\"1\" class=\"dataframe\">\n",
       "  <thead>\n",
       "    <tr style=\"text-align: right;\">\n",
       "      <th></th>\n",
       "      <th>country</th>\n",
       "      <th>description</th>\n",
       "      <th>designation</th>\n",
       "      <th>points</th>\n",
       "      <th>price</th>\n",
       "      <th>province</th>\n",
       "      <th>region_1</th>\n",
       "      <th>region_2</th>\n",
       "      <th>taster_name</th>\n",
       "      <th>taster_twitter_handle</th>\n",
       "      <th>title</th>\n",
       "      <th>variety</th>\n",
       "      <th>winery</th>\n",
       "      <th>ratio</th>\n",
       "    </tr>\n",
       "  </thead>\n",
       "  <tbody>\n",
       "    <tr>\n",
       "      <th>64590</th>\n",
       "      <td>US</td>\n",
       "      <td>There's a lot going on in this Merlot, which i...</td>\n",
       "      <td>NaN</td>\n",
       "      <td>86</td>\n",
       "      <td>4.0</td>\n",
       "      <td>California</td>\n",
       "      <td>California</td>\n",
       "      <td>California Other</td>\n",
       "      <td>NaN</td>\n",
       "      <td>NaN</td>\n",
       "      <td>Bandit NV Merlot (California)</td>\n",
       "      <td>Merlot</td>\n",
       "      <td>Bandit</td>\n",
       "      <td>21.5</td>\n",
       "    </tr>\n",
       "    <tr>\n",
       "      <th>126096</th>\n",
       "      <td>Romania</td>\n",
       "      <td>Notes of sun-dried hay and green flower highli...</td>\n",
       "      <td>UnWineD</td>\n",
       "      <td>86</td>\n",
       "      <td>4.0</td>\n",
       "      <td>Viile Timisului</td>\n",
       "      <td>NaN</td>\n",
       "      <td>NaN</td>\n",
       "      <td>Anna Lee C. Iijima</td>\n",
       "      <td>NaN</td>\n",
       "      <td>Cramele Recas 2011 UnWineD Pinot Grigio (Viile...</td>\n",
       "      <td>Pinot Grigio</td>\n",
       "      <td>Cramele Recas</td>\n",
       "      <td>21.5</td>\n",
       "    </tr>\n",
       "  </tbody>\n",
       "</table>\n",
       "</div>"
      ],
      "text/plain": [
       "        country                                        description  \\\n",
       "64590        US  There's a lot going on in this Merlot, which i...   \n",
       "126096  Romania  Notes of sun-dried hay and green flower highli...   \n",
       "\n",
       "       designation  points  price         province    region_1  \\\n",
       "64590          NaN      86    4.0       California  California   \n",
       "126096     UnWineD      86    4.0  Viile Timisului         NaN   \n",
       "\n",
       "                region_2         taster_name taster_twitter_handle  \\\n",
       "64590   California Other                 NaN                   NaN   \n",
       "126096               NaN  Anna Lee C. Iijima                   NaN   \n",
       "\n",
       "                                                    title       variety  \\\n",
       "64590                       Bandit NV Merlot (California)        Merlot   \n",
       "126096  Cramele Recas 2011 UnWineD Pinot Grigio (Viile...  Pinot Grigio   \n",
       "\n",
       "               winery  ratio  \n",
       "64590          Bandit   21.5  \n",
       "126096  Cramele Recas   21.5  "
      ]
     },
     "execution_count": 10,
     "metadata": {},
     "output_type": "execute_result"
    }
   ],
   "source": [
    "# reviews[reviews['price'].isnull() == False].loc[:,['points', 'price']]\n",
    "\n",
    "reviews['ratio'] = reviews['points'] / reviews['price'] # el precio por cada puntaje de vino\n",
    "\n",
    "ratio_max = reviews['ratio'].max() #valor maximo del ratio\n",
    "\n",
    "reviews.query('ratio == @ratio_max')#['title']"
   ]
  },
  {
   "cell_type": "code",
   "execution_count": 11,
   "id": "daa7498c",
   "metadata": {
    "execution": {
     "iopub.execute_input": "2023-08-26T21:24:13.071935Z",
     "iopub.status.busy": "2023-08-26T21:24:13.071489Z",
     "iopub.status.idle": "2023-08-26T21:24:13.083070Z",
     "shell.execute_reply": "2023-08-26T21:24:13.081971Z"
    },
    "papermill": {
     "duration": 0.027692,
     "end_time": "2023-08-26T21:24:13.085534",
     "exception": false,
     "start_time": "2023-08-26T21:24:13.057842",
     "status": "completed"
    },
    "tags": []
   },
   "outputs": [
    {
     "data": {
      "text/plain": [
       "['64590', 'Bandit NV Merlot (California)']"
      ]
     },
     "execution_count": 11,
     "metadata": {},
     "output_type": "execute_result"
    }
   ],
   "source": [
    "reviews.loc[(reviews['points']/reviews['price'])==(reviews['points']/reviews['price']).max()].head(1)['title'].to_string().split('    ')"
   ]
  },
  {
   "cell_type": "code",
   "execution_count": 12,
   "id": "579cc4b5",
   "metadata": {
    "execution": {
     "iopub.execute_input": "2023-08-26T21:24:13.111313Z",
     "iopub.status.busy": "2023-08-26T21:24:13.110506Z",
     "iopub.status.idle": "2023-08-26T21:24:13.125750Z",
     "shell.execute_reply": "2023-08-26T21:24:13.124634Z"
    },
    "papermill": {
     "duration": 0.031155,
     "end_time": "2023-08-26T21:24:13.128388",
     "exception": false,
     "start_time": "2023-08-26T21:24:13.097233",
     "status": "completed"
    },
    "tags": []
   },
   "outputs": [
    {
     "data": {
      "application/javascript": [
       "parent.postMessage({\"jupyterEvent\": \"custom.exercise_interaction\", \"data\": {\"outcomeType\": 1, \"valueTowardsCompletion\": 0.14285714285714285, \"interactionType\": 1, \"questionType\": 2, \"questionId\": \"5_BargainWine\", \"learnToolsVersion\": \"0.3.4\", \"failureMessage\": \"\", \"exceptionClass\": \"\", \"trace\": \"\"}}, \"*\")"
      ],
      "text/plain": [
       "<IPython.core.display.Javascript object>"
      ]
     },
     "metadata": {},
     "output_type": "display_data"
    },
    {
     "data": {
      "text/markdown": [
       "<span style=\"color:#33cc33\">Correct</span>"
      ],
      "text/plain": [
       "Correct"
      ]
     },
     "metadata": {},
     "output_type": "display_data"
    }
   ],
   "source": [
    "# points se alto y price sea bajo\n",
    "# price nan lo descarto\n",
    "bargain_wine = reviews.loc[(reviews['points']/reviews['price'])==(reviews['points']/reviews['price']).max()].head(1)['title'].to_string().split('    ')[1]\n",
    "\n",
    "# Check your answer\n",
    "q5.check()"
   ]
  },
  {
   "cell_type": "code",
   "execution_count": 13,
   "id": "b175520e",
   "metadata": {
    "execution": {
     "iopub.execute_input": "2023-08-26T21:24:13.155780Z",
     "iopub.status.busy": "2023-08-26T21:24:13.154907Z",
     "iopub.status.idle": "2023-08-26T21:24:13.159674Z",
     "shell.execute_reply": "2023-08-26T21:24:13.158882Z"
    },
    "papermill": {
     "duration": 0.021372,
     "end_time": "2023-08-26T21:24:13.162051",
     "exception": false,
     "start_time": "2023-08-26T21:24:13.140679",
     "status": "completed"
    },
    "tags": []
   },
   "outputs": [],
   "source": [
    "# q5.hint()\n",
    "# q5.solution()"
   ]
  },
  {
   "cell_type": "markdown",
   "id": "928505a2",
   "metadata": {
    "papermill": {
     "duration": 0.012382,
     "end_time": "2023-08-26T21:24:13.186628",
     "exception": false,
     "start_time": "2023-08-26T21:24:13.174246",
     "status": "completed"
    },
    "tags": []
   },
   "source": [
    "## 6.\n",
    "There are only so many words you can use when describing a bottle of wine. Is a wine more likely to be \"tropical\" or \"fruity\"? Create a Series `descriptor_counts` counting how many times each of these two words appears in the `description` column in the dataset. (For simplicity, let's ignore the capitalized versions of these words.)"
   ]
  },
  {
   "cell_type": "code",
   "execution_count": 14,
   "id": "953bb279",
   "metadata": {
    "execution": {
     "iopub.execute_input": "2023-08-26T21:24:13.214853Z",
     "iopub.status.busy": "2023-08-26T21:24:13.213977Z",
     "iopub.status.idle": "2023-08-26T21:24:14.038807Z",
     "shell.execute_reply": "2023-08-26T21:24:14.037602Z"
    },
    "papermill": {
     "duration": 0.841856,
     "end_time": "2023-08-26T21:24:14.041286",
     "exception": false,
     "start_time": "2023-08-26T21:24:13.199430",
     "status": "completed"
    },
    "tags": []
   },
   "outputs": [
    {
     "data": {
      "text/plain": [
       "tropical    3907\n",
       "fruity      9633\n",
       "dtype: int64"
      ]
     },
     "execution_count": 14,
     "metadata": {},
     "output_type": "execute_result"
    }
   ],
   "source": [
    "# separar por encoding con una libreria\n",
    "# separ las palabras y solo tomar en cuenta las palabras pedidas\n",
    "# palabras = [\"tropical\",\"fruity\"]\n",
    "# reviews['description'].str.lower().str.count(\"fruity\").sum() #| reviews['description'].str.lower().str.count(\"tropical\") \n",
    "\n",
    "pd.Series((reviews['description'].str.lower().str.count(\"tropical\").sum(),\n",
    "           reviews['description'].str.lower().str.count(\"fruity\").sum()),\n",
    "          index=['tropical', 'fruity']\n",
    "         )\n"
   ]
  },
  {
   "cell_type": "code",
   "execution_count": 15,
   "id": "b95308b0",
   "metadata": {
    "execution": {
     "iopub.execute_input": "2023-08-26T21:24:14.068877Z",
     "iopub.status.busy": "2023-08-26T21:24:14.068399Z",
     "iopub.status.idle": "2023-08-26T21:24:14.240792Z",
     "shell.execute_reply": "2023-08-26T21:24:14.239459Z"
    },
    "papermill": {
     "duration": 0.189561,
     "end_time": "2023-08-26T21:24:14.243411",
     "exception": false,
     "start_time": "2023-08-26T21:24:14.053850",
     "status": "completed"
    },
    "tags": []
   },
   "outputs": [
    {
     "data": {
      "text/plain": [
       "tropical    3607\n",
       "fruity      9090\n",
       "dtype: int64"
      ]
     },
     "execution_count": 15,
     "metadata": {},
     "output_type": "execute_result"
    }
   ],
   "source": [
    "n_trop = reviews.description.map(lambda desc: \"tropical\" in desc).sum()\n",
    "n_fruity = reviews.description.map(lambda desc: \"fruity\" in desc).sum()\n",
    "pd.Series([n_trop, n_fruity], index=['tropical', 'fruity'])"
   ]
  },
  {
   "cell_type": "code",
   "execution_count": 16,
   "id": "886a1589",
   "metadata": {
    "execution": {
     "iopub.execute_input": "2023-08-26T21:24:14.272438Z",
     "iopub.status.busy": "2023-08-26T21:24:14.270970Z",
     "iopub.status.idle": "2023-08-26T21:24:14.282976Z",
     "shell.execute_reply": "2023-08-26T21:24:14.281510Z"
    },
    "papermill": {
     "duration": 0.0293,
     "end_time": "2023-08-26T21:24:14.285681",
     "exception": false,
     "start_time": "2023-08-26T21:24:14.256381",
     "status": "completed"
    },
    "tags": []
   },
   "outputs": [
    {
     "data": {
      "application/javascript": [
       "parent.postMessage({\"jupyterEvent\": \"custom.exercise_interaction\", \"data\": {\"outcomeType\": 1, \"valueTowardsCompletion\": 0.14285714285714285, \"interactionType\": 1, \"questionType\": 1, \"questionId\": \"6_DescriptorCounts\", \"learnToolsVersion\": \"0.3.4\", \"failureMessage\": \"\", \"exceptionClass\": \"\", \"trace\": \"\"}}, \"*\")"
      ],
      "text/plain": [
       "<IPython.core.display.Javascript object>"
      ]
     },
     "metadata": {},
     "output_type": "display_data"
    },
    {
     "data": {
      "text/markdown": [
       "<span style=\"color:#33cc33\">Correct</span>"
      ],
      "text/plain": [
       "Correct"
      ]
     },
     "metadata": {},
     "output_type": "display_data"
    }
   ],
   "source": [
    "descriptor_counts =pd.Series([n_trop, n_fruity], index=['tropical', 'fruity'])\n",
    "# Check your answer\n",
    "q6.check()"
   ]
  },
  {
   "cell_type": "code",
   "execution_count": 17,
   "id": "b7f50dee",
   "metadata": {
    "execution": {
     "iopub.execute_input": "2023-08-26T21:24:14.314871Z",
     "iopub.status.busy": "2023-08-26T21:24:14.314456Z",
     "iopub.status.idle": "2023-08-26T21:24:14.324141Z",
     "shell.execute_reply": "2023-08-26T21:24:14.322852Z"
    },
    "papermill": {
     "duration": 0.027012,
     "end_time": "2023-08-26T21:24:14.326688",
     "exception": false,
     "start_time": "2023-08-26T21:24:14.299676",
     "status": "completed"
    },
    "tags": []
   },
   "outputs": [
    {
     "data": {
      "application/javascript": [
       "parent.postMessage({\"jupyterEvent\": \"custom.exercise_interaction\", \"data\": {\"interactionType\": 3, \"questionType\": 1, \"questionId\": \"6_DescriptorCounts\", \"learnToolsVersion\": \"0.3.4\", \"valueTowardsCompletion\": 0.0, \"failureMessage\": \"\", \"exceptionClass\": \"\", \"trace\": \"\", \"outcomeType\": 4}}, \"*\")"
      ],
      "text/plain": [
       "<IPython.core.display.Javascript object>"
      ]
     },
     "metadata": {},
     "output_type": "display_data"
    },
    {
     "data": {
      "text/markdown": [
       "<span style=\"color:#33cc99\">Solution:</span> \n",
       "```python\n",
       "n_trop = reviews.description.map(lambda desc: \"tropical\" in desc).sum()\n",
       "n_fruity = reviews.description.map(lambda desc: \"fruity\" in desc).sum()\n",
       "descriptor_counts = pd.Series([n_trop, n_fruity], index=['tropical', 'fruity'])\n",
       "```"
      ],
      "text/plain": [
       "Solution: \n",
       "```python\n",
       "n_trop = reviews.description.map(lambda desc: \"tropical\" in desc).sum()\n",
       "n_fruity = reviews.description.map(lambda desc: \"fruity\" in desc).sum()\n",
       "descriptor_counts = pd.Series([n_trop, n_fruity], index=['tropical', 'fruity'])\n",
       "```"
      ]
     },
     "metadata": {},
     "output_type": "display_data"
    }
   ],
   "source": [
    "# q6.hint()\n",
    "q6.solution()"
   ]
  },
  {
   "cell_type": "markdown",
   "id": "ff81ed54",
   "metadata": {
    "papermill": {
     "duration": 0.013342,
     "end_time": "2023-08-26T21:24:14.353053",
     "exception": false,
     "start_time": "2023-08-26T21:24:14.339711",
     "status": "completed"
    },
    "tags": []
   },
   "source": [
    "## 7.\n",
    "We'd like to host these wine reviews on our website, but a rating system ranging from 80 to 100 points is too hard to understand - we'd like to translate them into simple star ratings. A score of 95 or higher counts as 3 stars, a score of at least 85 but less than 95 is 2 stars. Any other score is 1 star.\n",
    "\n",
    "Also, the Canadian Vintners Association bought a lot of ads on the site, so any wines from Canada should automatically get 3 stars, regardless of points.\n",
    "\n",
    "Create a series `star_ratings` with the number of stars corresponding to each review in the dataset."
   ]
  },
  {
   "cell_type": "code",
   "execution_count": 18,
   "id": "ff8bfee1",
   "metadata": {
    "execution": {
     "iopub.execute_input": "2023-08-26T21:24:14.381448Z",
     "iopub.status.busy": "2023-08-26T21:24:14.381068Z",
     "iopub.status.idle": "2023-08-26T21:24:18.106061Z",
     "shell.execute_reply": "2023-08-26T21:24:18.104637Z"
    },
    "papermill": {
     "duration": 3.743006,
     "end_time": "2023-08-26T21:24:18.109248",
     "exception": false,
     "start_time": "2023-08-26T21:24:14.366242",
     "status": "completed"
    },
    "tags": []
   },
   "outputs": [
    {
     "data": {
      "text/plain": [
       "0         2\n",
       "1         2\n",
       "         ..\n",
       "129969    2\n",
       "129970    2\n",
       "Length: 129971, dtype: int64"
      ]
     },
     "execution_count": 18,
     "metadata": {},
     "output_type": "execute_result"
    }
   ],
   "source": [
    "def nuevo_rating(df):\n",
    "    if df['country']=='Canada': \n",
    "        return 3\n",
    "    elif df['points']>=95:\n",
    "        return 3\n",
    "    elif df['points']<95 and df['points']>=85:\n",
    "        return 2\n",
    "    else: \n",
    "        return 1\n",
    "reviews.apply(nuevo_rating, axis=1)"
   ]
  },
  {
   "cell_type": "code",
   "execution_count": 19,
   "id": "d2f33d48",
   "metadata": {
    "execution": {
     "iopub.execute_input": "2023-08-26T21:24:18.139284Z",
     "iopub.status.busy": "2023-08-26T21:24:18.138844Z",
     "iopub.status.idle": "2023-08-26T21:24:21.831123Z",
     "shell.execute_reply": "2023-08-26T21:24:21.830253Z"
    },
    "papermill": {
     "duration": 3.709881,
     "end_time": "2023-08-26T21:24:21.833237",
     "exception": false,
     "start_time": "2023-08-26T21:24:18.123356",
     "status": "completed"
    },
    "tags": []
   },
   "outputs": [
    {
     "data": {
      "application/javascript": [
       "parent.postMessage({\"jupyterEvent\": \"custom.exercise_interaction\", \"data\": {\"outcomeType\": 1, \"valueTowardsCompletion\": 0.14285714285714285, \"interactionType\": 1, \"questionType\": 1, \"questionId\": \"7_StarRatings\", \"learnToolsVersion\": \"0.3.4\", \"failureMessage\": \"\", \"exceptionClass\": \"\", \"trace\": \"\"}}, \"*\")"
      ],
      "text/plain": [
       "<IPython.core.display.Javascript object>"
      ]
     },
     "metadata": {},
     "output_type": "display_data"
    },
    {
     "data": {
      "text/markdown": [
       "<span style=\"color:#33cc33\">Correct</span>"
      ],
      "text/plain": [
       "Correct"
      ]
     },
     "metadata": {},
     "output_type": "display_data"
    }
   ],
   "source": [
    "star_ratings = reviews.apply(nuevo_rating, axis=1)\n",
    "\n",
    "# Check your answer\n",
    "q7.check()"
   ]
  },
  {
   "cell_type": "code",
   "execution_count": 20,
   "id": "c9ec506d",
   "metadata": {
    "execution": {
     "iopub.execute_input": "2023-08-26T21:24:21.862921Z",
     "iopub.status.busy": "2023-08-26T21:24:21.862513Z",
     "iopub.status.idle": "2023-08-26T21:24:21.867734Z",
     "shell.execute_reply": "2023-08-26T21:24:21.866503Z"
    },
    "papermill": {
     "duration": 0.023271,
     "end_time": "2023-08-26T21:24:21.870302",
     "exception": false,
     "start_time": "2023-08-26T21:24:21.847031",
     "status": "completed"
    },
    "tags": []
   },
   "outputs": [],
   "source": [
    "# q7.hint()\n",
    "#q7.solution()"
   ]
  },
  {
   "cell_type": "markdown",
   "id": "e8cc52f5",
   "metadata": {
    "papermill": {
     "duration": 0.01338,
     "end_time": "2023-08-26T21:24:21.897512",
     "exception": false,
     "start_time": "2023-08-26T21:24:21.884132",
     "status": "completed"
    },
    "tags": []
   },
   "source": [
    "# Keep going\n",
    "Continue to **[grouping and sorting](https://www.kaggle.com/residentmario/grouping-and-sorting)**."
   ]
  },
  {
   "cell_type": "markdown",
   "id": "0c268582",
   "metadata": {
    "papermill": {
     "duration": 0.013347,
     "end_time": "2023-08-26T21:24:21.924638",
     "exception": false,
     "start_time": "2023-08-26T21:24:21.911291",
     "status": "completed"
    },
    "tags": []
   },
   "source": [
    "---\n",
    "\n",
    "\n",
    "\n",
    "\n",
    "*Have questions or comments? Visit the [course discussion forum](https://www.kaggle.com/learn/pandas/discussion) to chat with other learners.*"
   ]
  }
 ],
 "metadata": {
  "kernelspec": {
   "display_name": "Python 3",
   "language": "python",
   "name": "python3"
  },
  "language_info": {
   "codemirror_mode": {
    "name": "ipython",
    "version": 3
   },
   "file_extension": ".py",
   "mimetype": "text/x-python",
   "name": "python",
   "nbconvert_exporter": "python",
   "pygments_lexer": "ipython3",
   "version": "3.10.12"
  },
  "papermill": {
   "default_parameters": {},
   "duration": 32.867896,
   "end_time": "2023-08-26T21:24:24.221738",
   "environment_variables": {},
   "exception": null,
   "input_path": "__notebook__.ipynb",
   "output_path": "__notebook__.ipynb",
   "parameters": {},
   "start_time": "2023-08-26T21:23:51.353842",
   "version": "2.4.0"
  }
 },
 "nbformat": 4,
 "nbformat_minor": 5
}
